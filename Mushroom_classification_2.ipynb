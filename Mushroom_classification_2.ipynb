{
 "cells": [
  {
   "cell_type": "code",
   "execution_count": 1,
   "id": "39ae3a6a-c0f7-4a92-af37-fe00d5721ace",
   "metadata": {},
   "outputs": [],
   "source": [
    "import pandas as pd\n",
    "import matplotlib.pyplot as plt\n",
    "import seaborn as sns\n",
    "from sklearn.model_selection import train_test_split\n",
    "\n",
    "from sklearn.pipeline import Pipeline, make_pipeline\n",
    "from sklearn.compose import ColumnTransformer\n",
    "from sklearn.preprocessing import OneHotEncoder\n",
    "\n",
    "from sklearn.metrics import ConfusionMatrixDisplay\n",
    "\n",
    "from sklearn.ensemble import RandomForestClassifier, BaggingClassifier, GradientBoostingClassifier\n",
    "\n",
    "from sklearn.metrics import roc_curve, auc\n",
    "from sklearn.metrics import roc_auc_score\n",
    "from sklearn.metrics import accuracy_score\n",
    "\n",
    "from sklearn.model_selection import GridSearchCV\n",
    "from sklearn.feature_selection import RFECV\n",
    "from sklearn.feature_selection import SelectKBest, mutual_info_regression, SelectFromModel\n",
    "from sklearn.tree import DecisionTreeClassifier\n",
    "from sklearn.linear_model import LogisticRegression\n",
    "from sklearn.preprocessing import RobustScaler"
   ]
  },
  {
   "cell_type": "code",
   "execution_count": 2,
   "id": "033c0b1b-0e66-4a38-a502-647014c94914",
   "metadata": {},
   "outputs": [],
   "source": [
    "from sklearn import set_config\n",
    "set_config(display=\"diagram\")\n",
    "set_config(transform_output=\"pandas\")"
   ]
  },
  {
   "cell_type": "code",
   "execution_count": 3,
   "id": "f6a808ee-7f8d-4b26-9043-9647d04aeea3",
   "metadata": {},
   "outputs": [],
   "source": [
    "mush = pd.read_csv('https://drive.google.com/uc?export=download&id=1eT8uTctwIx9yu2m207ZD1zSfshT9B24k')"
   ]
  },
  {
   "cell_type": "code",
   "execution_count": 4,
   "id": "38f66898-e0d9-409b-bfa8-734472d5a1a1",
   "metadata": {},
   "outputs": [
    {
     "data": {
      "text/html": [
       "<div>\n",
       "<style scoped>\n",
       "    .dataframe tbody tr th:only-of-type {\n",
       "        vertical-align: middle;\n",
       "    }\n",
       "\n",
       "    .dataframe tbody tr th {\n",
       "        vertical-align: top;\n",
       "    }\n",
       "\n",
       "    .dataframe thead th {\n",
       "        text-align: right;\n",
       "    }\n",
       "</style>\n",
       "<table border=\"1\" class=\"dataframe\">\n",
       "  <thead>\n",
       "    <tr style=\"text-align: right;\">\n",
       "      <th></th>\n",
       "      <th>cap.shape</th>\n",
       "      <th>cap.color</th>\n",
       "      <th>bruises</th>\n",
       "      <th>stalk.color.above.ring</th>\n",
       "      <th>stalk.color.below.ring</th>\n",
       "      <th>population</th>\n",
       "      <th>Id</th>\n",
       "      <th>poisonous</th>\n",
       "    </tr>\n",
       "  </thead>\n",
       "  <tbody>\n",
       "    <tr>\n",
       "      <th>0</th>\n",
       "      <td>k</td>\n",
       "      <td>e</td>\n",
       "      <td>False</td>\n",
       "      <td>w</td>\n",
       "      <td>w</td>\n",
       "      <td>v</td>\n",
       "      <td>6573</td>\n",
       "      <td>1</td>\n",
       "    </tr>\n",
       "    <tr>\n",
       "      <th>1</th>\n",
       "      <td>f</td>\n",
       "      <td>e</td>\n",
       "      <td>True</td>\n",
       "      <td>p</td>\n",
       "      <td>w</td>\n",
       "      <td>y</td>\n",
       "      <td>4426</td>\n",
       "      <td>0</td>\n",
       "    </tr>\n",
       "    <tr>\n",
       "      <th>2</th>\n",
       "      <td>b</td>\n",
       "      <td>w</td>\n",
       "      <td>False</td>\n",
       "      <td>w</td>\n",
       "      <td>w</td>\n",
       "      <td>s</td>\n",
       "      <td>7018</td>\n",
       "      <td>0</td>\n",
       "    </tr>\n",
       "    <tr>\n",
       "      <th>3</th>\n",
       "      <td>k</td>\n",
       "      <td>g</td>\n",
       "      <td>False</td>\n",
       "      <td>w</td>\n",
       "      <td>w</td>\n",
       "      <td>n</td>\n",
       "      <td>5789</td>\n",
       "      <td>0</td>\n",
       "    </tr>\n",
       "    <tr>\n",
       "      <th>4</th>\n",
       "      <td>f</td>\n",
       "      <td>n</td>\n",
       "      <td>True</td>\n",
       "      <td>p</td>\n",
       "      <td>g</td>\n",
       "      <td>v</td>\n",
       "      <td>6187</td>\n",
       "      <td>0</td>\n",
       "    </tr>\n",
       "    <tr>\n",
       "      <th>...</th>\n",
       "      <td>...</td>\n",
       "      <td>...</td>\n",
       "      <td>...</td>\n",
       "      <td>...</td>\n",
       "      <td>...</td>\n",
       "      <td>...</td>\n",
       "      <td>...</td>\n",
       "      <td>...</td>\n",
       "    </tr>\n",
       "    <tr>\n",
       "      <th>6494</th>\n",
       "      <td>f</td>\n",
       "      <td>g</td>\n",
       "      <td>False</td>\n",
       "      <td>b</td>\n",
       "      <td>b</td>\n",
       "      <td>v</td>\n",
       "      <td>7002</td>\n",
       "      <td>1</td>\n",
       "    </tr>\n",
       "    <tr>\n",
       "      <th>6495</th>\n",
       "      <td>k</td>\n",
       "      <td>e</td>\n",
       "      <td>False</td>\n",
       "      <td>p</td>\n",
       "      <td>p</td>\n",
       "      <td>v</td>\n",
       "      <td>7323</td>\n",
       "      <td>1</td>\n",
       "    </tr>\n",
       "    <tr>\n",
       "      <th>6496</th>\n",
       "      <td>f</td>\n",
       "      <td>g</td>\n",
       "      <td>False</td>\n",
       "      <td>n</td>\n",
       "      <td>b</td>\n",
       "      <td>y</td>\n",
       "      <td>6206</td>\n",
       "      <td>1</td>\n",
       "    </tr>\n",
       "    <tr>\n",
       "      <th>6497</th>\n",
       "      <td>f</td>\n",
       "      <td>n</td>\n",
       "      <td>True</td>\n",
       "      <td>w</td>\n",
       "      <td>w</td>\n",
       "      <td>s</td>\n",
       "      <td>4658</td>\n",
       "      <td>0</td>\n",
       "    </tr>\n",
       "    <tr>\n",
       "      <th>6498</th>\n",
       "      <td>f</td>\n",
       "      <td>e</td>\n",
       "      <td>False</td>\n",
       "      <td>p</td>\n",
       "      <td>p</td>\n",
       "      <td>v</td>\n",
       "      <td>373</td>\n",
       "      <td>1</td>\n",
       "    </tr>\n",
       "  </tbody>\n",
       "</table>\n",
       "<p>6499 rows × 8 columns</p>\n",
       "</div>"
      ],
      "text/plain": [
       "     cap.shape cap.color  bruises stalk.color.above.ring  \\\n",
       "0            k         e    False                      w   \n",
       "1            f         e     True                      p   \n",
       "2            b         w    False                      w   \n",
       "3            k         g    False                      w   \n",
       "4            f         n     True                      p   \n",
       "...        ...       ...      ...                    ...   \n",
       "6494         f         g    False                      b   \n",
       "6495         k         e    False                      p   \n",
       "6496         f         g    False                      n   \n",
       "6497         f         n     True                      w   \n",
       "6498         f         e    False                      p   \n",
       "\n",
       "     stalk.color.below.ring population    Id  poisonous  \n",
       "0                         w          v  6573          1  \n",
       "1                         w          y  4426          0  \n",
       "2                         w          s  7018          0  \n",
       "3                         w          n  5789          0  \n",
       "4                         g          v  6187          0  \n",
       "...                     ...        ...   ...        ...  \n",
       "6494                      b          v  7002          1  \n",
       "6495                      p          v  7323          1  \n",
       "6496                      b          y  6206          1  \n",
       "6497                      w          s  4658          0  \n",
       "6498                      p          v   373          1  \n",
       "\n",
       "[6499 rows x 8 columns]"
      ]
     },
     "execution_count": 4,
     "metadata": {},
     "output_type": "execute_result"
    }
   ],
   "source": [
    "mush"
   ]
  },
  {
   "cell_type": "code",
   "execution_count": 5,
   "id": "6526f26b-1276-4f9f-8954-528dfa322a27",
   "metadata": {},
   "outputs": [
    {
     "name": "stdout",
     "output_type": "stream",
     "text": [
      "<class 'pandas.core.frame.DataFrame'>\n",
      "RangeIndex: 6499 entries, 0 to 6498\n",
      "Data columns (total 8 columns):\n",
      " #   Column                  Non-Null Count  Dtype \n",
      "---  ------                  --------------  ----- \n",
      " 0   cap.shape               6499 non-null   object\n",
      " 1   cap.color               6499 non-null   object\n",
      " 2   bruises                 6499 non-null   bool  \n",
      " 3   stalk.color.above.ring  6499 non-null   object\n",
      " 4   stalk.color.below.ring  6499 non-null   object\n",
      " 5   population              6499 non-null   object\n",
      " 6   Id                      6499 non-null   int64 \n",
      " 7   poisonous               6499 non-null   int64 \n",
      "dtypes: bool(1), int64(2), object(5)\n",
      "memory usage: 361.9+ KB\n"
     ]
    }
   ],
   "source": [
    "mush.info()"
   ]
  },
  {
   "cell_type": "code",
   "execution_count": 6,
   "id": "b0a92caf-4467-44e5-8106-c16dc20f0789",
   "metadata": {},
   "outputs": [
    {
     "data": {
      "text/plain": [
       "cap.shape                    6\n",
       "cap.color                   10\n",
       "bruises                      2\n",
       "stalk.color.above.ring       9\n",
       "stalk.color.below.ring       9\n",
       "population                   6\n",
       "Id                        6499\n",
       "poisonous                    2\n",
       "dtype: int64"
      ]
     },
     "execution_count": 6,
     "metadata": {},
     "output_type": "execute_result"
    }
   ],
   "source": [
    "mush.nunique()"
   ]
  },
  {
   "cell_type": "code",
   "execution_count": 7,
   "id": "239ee283-b582-447f-8f96-e655f8839fab",
   "metadata": {},
   "outputs": [],
   "source": [
    "X = mush.drop('Id', axis=1).copy()\n",
    "y = X.pop('poisonous')"
   ]
  },
  {
   "cell_type": "code",
   "execution_count": 8,
   "id": "44e88145-1648-47d7-8cb0-c97679992ee4",
   "metadata": {},
   "outputs": [],
   "source": [
    "X_train, X_test, y_train, y_test = train_test_split(X, y , test_size=0.2, random_state=42)"
   ]
  },
  {
   "cell_type": "code",
   "execution_count": 9,
   "id": "67bb5d2e-386d-419d-aab2-b4d9a446fd23",
   "metadata": {},
   "outputs": [],
   "source": [
    "from numpy import arange"
   ]
  },
  {
   "cell_type": "code",
   "execution_count": 10,
   "id": "e8bf9bcb-1144-4e9d-8a35-3779e2d8238c",
   "metadata": {},
   "outputs": [],
   "source": [
    "preprocessor = OneHotEncoder(handle_unknown='infrequent_if_exist', sparse_output=False)"
   ]
  },
  {
   "cell_type": "code",
   "execution_count": 11,
   "id": "ae18c576-b3fb-4a3f-b4cf-543442a02b29",
   "metadata": {},
   "outputs": [],
   "source": [
    "mush_pipe = make_pipeline(preprocessor,                  \n",
    "    RandomForestClassifier(class_weight={0: 1, 1: 10})\n",
    ").set_output(transform='pandas')\n",
    "param_grid = {\n",
    "    \"randomforestclassifier__n_estimators\": [200 ,500],\n",
    "    \"randomforestclassifier__max_depth\": range(5, 15, 5),\n",
    "    \"randomforestclassifier__min_samples_leaf\": range(5, 15, 5),\n",
    "    \"randomforestclassifier__criterion\": ['gini', 'entropy'],\n",
    "    \"randomforestclassifier__ccp_alpha\": arange(0, 0.1)\n",
    "}"
   ]
  },
  {
   "cell_type": "code",
   "execution_count": 12,
   "id": "c2695d91-147e-4f0f-9722-496a7583549b",
   "metadata": {},
   "outputs": [],
   "source": [
    "search = GridSearchCV(\n",
    "    mush_pipe,\n",
    "    param_grid=param_grid,\n",
    "    cv=5,\n",
    "    scoring='accuracy',\n",
    "    verbose=1\n",
    ")"
   ]
  },
  {
   "cell_type": "code",
   "execution_count": 13,
   "id": "bb261aa3-728a-41d0-936c-8e132a66d8bf",
   "metadata": {},
   "outputs": [
    {
     "name": "stdout",
     "output_type": "stream",
     "text": [
      "Fitting 5 folds for each of 16 candidates, totalling 80 fits\n"
     ]
    },
    {
     "data": {
      "text/html": [
       "<style>#sk-container-id-1 {color: black;}#sk-container-id-1 pre{padding: 0;}#sk-container-id-1 div.sk-toggleable {background-color: white;}#sk-container-id-1 label.sk-toggleable__label {cursor: pointer;display: block;width: 100%;margin-bottom: 0;padding: 0.3em;box-sizing: border-box;text-align: center;}#sk-container-id-1 label.sk-toggleable__label-arrow:before {content: \"▸\";float: left;margin-right: 0.25em;color: #696969;}#sk-container-id-1 label.sk-toggleable__label-arrow:hover:before {color: black;}#sk-container-id-1 div.sk-estimator:hover label.sk-toggleable__label-arrow:before {color: black;}#sk-container-id-1 div.sk-toggleable__content {max-height: 0;max-width: 0;overflow: hidden;text-align: left;background-color: #f0f8ff;}#sk-container-id-1 div.sk-toggleable__content pre {margin: 0.2em;color: black;border-radius: 0.25em;background-color: #f0f8ff;}#sk-container-id-1 input.sk-toggleable__control:checked~div.sk-toggleable__content {max-height: 200px;max-width: 100%;overflow: auto;}#sk-container-id-1 input.sk-toggleable__control:checked~label.sk-toggleable__label-arrow:before {content: \"▾\";}#sk-container-id-1 div.sk-estimator input.sk-toggleable__control:checked~label.sk-toggleable__label {background-color: #d4ebff;}#sk-container-id-1 div.sk-label input.sk-toggleable__control:checked~label.sk-toggleable__label {background-color: #d4ebff;}#sk-container-id-1 input.sk-hidden--visually {border: 0;clip: rect(1px 1px 1px 1px);clip: rect(1px, 1px, 1px, 1px);height: 1px;margin: -1px;overflow: hidden;padding: 0;position: absolute;width: 1px;}#sk-container-id-1 div.sk-estimator {font-family: monospace;background-color: #f0f8ff;border: 1px dotted black;border-radius: 0.25em;box-sizing: border-box;margin-bottom: 0.5em;}#sk-container-id-1 div.sk-estimator:hover {background-color: #d4ebff;}#sk-container-id-1 div.sk-parallel-item::after {content: \"\";width: 100%;border-bottom: 1px solid gray;flex-grow: 1;}#sk-container-id-1 div.sk-label:hover label.sk-toggleable__label {background-color: #d4ebff;}#sk-container-id-1 div.sk-serial::before {content: \"\";position: absolute;border-left: 1px solid gray;box-sizing: border-box;top: 0;bottom: 0;left: 50%;z-index: 0;}#sk-container-id-1 div.sk-serial {display: flex;flex-direction: column;align-items: center;background-color: white;padding-right: 0.2em;padding-left: 0.2em;position: relative;}#sk-container-id-1 div.sk-item {position: relative;z-index: 1;}#sk-container-id-1 div.sk-parallel {display: flex;align-items: stretch;justify-content: center;background-color: white;position: relative;}#sk-container-id-1 div.sk-item::before, #sk-container-id-1 div.sk-parallel-item::before {content: \"\";position: absolute;border-left: 1px solid gray;box-sizing: border-box;top: 0;bottom: 0;left: 50%;z-index: -1;}#sk-container-id-1 div.sk-parallel-item {display: flex;flex-direction: column;z-index: 1;position: relative;background-color: white;}#sk-container-id-1 div.sk-parallel-item:first-child::after {align-self: flex-end;width: 50%;}#sk-container-id-1 div.sk-parallel-item:last-child::after {align-self: flex-start;width: 50%;}#sk-container-id-1 div.sk-parallel-item:only-child::after {width: 0;}#sk-container-id-1 div.sk-dashed-wrapped {border: 1px dashed gray;margin: 0 0.4em 0.5em 0.4em;box-sizing: border-box;padding-bottom: 0.4em;background-color: white;}#sk-container-id-1 div.sk-label label {font-family: monospace;font-weight: bold;display: inline-block;line-height: 1.2em;}#sk-container-id-1 div.sk-label-container {text-align: center;}#sk-container-id-1 div.sk-container {/* jupyter's `normalize.less` sets `[hidden] { display: none; }` but bootstrap.min.css set `[hidden] { display: none !important; }` so we also need the `!important` here to be able to override the default hidden behavior on the sphinx rendered scikit-learn.org. See: https://github.com/scikit-learn/scikit-learn/issues/21755 */display: inline-block !important;position: relative;}#sk-container-id-1 div.sk-text-repr-fallback {display: none;}</style><div id=\"sk-container-id-1\" class=\"sk-top-container\"><div class=\"sk-text-repr-fallback\"><pre>GridSearchCV(cv=5,\n",
       "             estimator=Pipeline(steps=[(&#x27;onehotencoder&#x27;,\n",
       "                                        OneHotEncoder(handle_unknown=&#x27;infrequent_if_exist&#x27;,\n",
       "                                                      sparse_output=False)),\n",
       "                                       (&#x27;randomforestclassifier&#x27;,\n",
       "                                        RandomForestClassifier(class_weight={0: 1,\n",
       "                                                                             1: 10}))]),\n",
       "             param_grid={&#x27;randomforestclassifier__ccp_alpha&#x27;: array([0.]),\n",
       "                         &#x27;randomforestclassifier__criterion&#x27;: [&#x27;gini&#x27;,\n",
       "                                                               &#x27;entropy&#x27;],\n",
       "                         &#x27;randomforestclassifier__max_depth&#x27;: range(5, 15, 5),\n",
       "                         &#x27;randomforestclassifier__min_samples_leaf&#x27;: range(5, 15, 5),\n",
       "                         &#x27;randomforestclassifier__n_estimators&#x27;: [200, 500]},\n",
       "             scoring=&#x27;accuracy&#x27;, verbose=1)</pre><b>In a Jupyter environment, please rerun this cell to show the HTML representation or trust the notebook. <br />On GitHub, the HTML representation is unable to render, please try loading this page with nbviewer.org.</b></div><div class=\"sk-container\" hidden><div class=\"sk-item sk-dashed-wrapped\"><div class=\"sk-label-container\"><div class=\"sk-label sk-toggleable\"><input class=\"sk-toggleable__control sk-hidden--visually\" id=\"sk-estimator-id-1\" type=\"checkbox\" ><label for=\"sk-estimator-id-1\" class=\"sk-toggleable__label sk-toggleable__label-arrow\">GridSearchCV</label><div class=\"sk-toggleable__content\"><pre>GridSearchCV(cv=5,\n",
       "             estimator=Pipeline(steps=[(&#x27;onehotencoder&#x27;,\n",
       "                                        OneHotEncoder(handle_unknown=&#x27;infrequent_if_exist&#x27;,\n",
       "                                                      sparse_output=False)),\n",
       "                                       (&#x27;randomforestclassifier&#x27;,\n",
       "                                        RandomForestClassifier(class_weight={0: 1,\n",
       "                                                                             1: 10}))]),\n",
       "             param_grid={&#x27;randomforestclassifier__ccp_alpha&#x27;: array([0.]),\n",
       "                         &#x27;randomforestclassifier__criterion&#x27;: [&#x27;gini&#x27;,\n",
       "                                                               &#x27;entropy&#x27;],\n",
       "                         &#x27;randomforestclassifier__max_depth&#x27;: range(5, 15, 5),\n",
       "                         &#x27;randomforestclassifier__min_samples_leaf&#x27;: range(5, 15, 5),\n",
       "                         &#x27;randomforestclassifier__n_estimators&#x27;: [200, 500]},\n",
       "             scoring=&#x27;accuracy&#x27;, verbose=1)</pre></div></div></div><div class=\"sk-parallel\"><div class=\"sk-parallel-item\"><div class=\"sk-item\"><div class=\"sk-label-container\"><div class=\"sk-label sk-toggleable\"><input class=\"sk-toggleable__control sk-hidden--visually\" id=\"sk-estimator-id-2\" type=\"checkbox\" ><label for=\"sk-estimator-id-2\" class=\"sk-toggleable__label sk-toggleable__label-arrow\">estimator: Pipeline</label><div class=\"sk-toggleable__content\"><pre>Pipeline(steps=[(&#x27;onehotencoder&#x27;,\n",
       "                 OneHotEncoder(handle_unknown=&#x27;infrequent_if_exist&#x27;,\n",
       "                               sparse_output=False)),\n",
       "                (&#x27;randomforestclassifier&#x27;,\n",
       "                 RandomForestClassifier(class_weight={0: 1, 1: 10}))])</pre></div></div></div><div class=\"sk-serial\"><div class=\"sk-item\"><div class=\"sk-serial\"><div class=\"sk-item\"><div class=\"sk-estimator sk-toggleable\"><input class=\"sk-toggleable__control sk-hidden--visually\" id=\"sk-estimator-id-3\" type=\"checkbox\" ><label for=\"sk-estimator-id-3\" class=\"sk-toggleable__label sk-toggleable__label-arrow\">OneHotEncoder</label><div class=\"sk-toggleable__content\"><pre>OneHotEncoder(handle_unknown=&#x27;infrequent_if_exist&#x27;, sparse_output=False)</pre></div></div></div><div class=\"sk-item\"><div class=\"sk-estimator sk-toggleable\"><input class=\"sk-toggleable__control sk-hidden--visually\" id=\"sk-estimator-id-4\" type=\"checkbox\" ><label for=\"sk-estimator-id-4\" class=\"sk-toggleable__label sk-toggleable__label-arrow\">RandomForestClassifier</label><div class=\"sk-toggleable__content\"><pre>RandomForestClassifier(class_weight={0: 1, 1: 10})</pre></div></div></div></div></div></div></div></div></div></div></div></div>"
      ],
      "text/plain": [
       "GridSearchCV(cv=5,\n",
       "             estimator=Pipeline(steps=[('onehotencoder',\n",
       "                                        OneHotEncoder(handle_unknown='infrequent_if_exist',\n",
       "                                                      sparse_output=False)),\n",
       "                                       ('randomforestclassifier',\n",
       "                                        RandomForestClassifier(class_weight={0: 1,\n",
       "                                                                             1: 10}))]),\n",
       "             param_grid={'randomforestclassifier__ccp_alpha': array([0.]),\n",
       "                         'randomforestclassifier__criterion': ['gini',\n",
       "                                                               'entropy'],\n",
       "                         'randomforestclassifier__max_depth': range(5, 15, 5),\n",
       "                         'randomforestclassifier__min_samples_leaf': range(5, 15, 5),\n",
       "                         'randomforestclassifier__n_estimators': [200, 500]},\n",
       "             scoring='accuracy', verbose=1)"
      ]
     },
     "execution_count": 13,
     "metadata": {},
     "output_type": "execute_result"
    }
   ],
   "source": [
    "search.fit(X_train, y_train)"
   ]
  },
  {
   "cell_type": "code",
   "execution_count": 14,
   "id": "2ccc3cf2-5c02-472d-9aad-3aa370755a62",
   "metadata": {},
   "outputs": [
    {
     "data": {
      "text/plain": [
       "{'randomforestclassifier__ccp_alpha': 0.0,\n",
       " 'randomforestclassifier__criterion': 'entropy',\n",
       " 'randomforestclassifier__max_depth': 10,\n",
       " 'randomforestclassifier__min_samples_leaf': 5,\n",
       " 'randomforestclassifier__n_estimators': 500}"
      ]
     },
     "execution_count": 14,
     "metadata": {},
     "output_type": "execute_result"
    }
   ],
   "source": [
    "search.best_params_"
   ]
  },
  {
   "cell_type": "code",
   "execution_count": 15,
   "id": "ec9d666e-59ab-4ed9-b631-19afc1722bc6",
   "metadata": {},
   "outputs": [],
   "source": [
    "my_mush = search.best_estimator_"
   ]
  },
  {
   "cell_type": "code",
   "execution_count": 16,
   "id": "a5f86777-4b96-4195-b9e2-f0cf3727f08c",
   "metadata": {},
   "outputs": [],
   "source": [
    "y_mush_predict = my_mush.predict(X_test)"
   ]
  },
  {
   "cell_type": "code",
   "execution_count": 17,
   "id": "e7bd1102-f882-4e24-a6bc-344598cb40f1",
   "metadata": {},
   "outputs": [
    {
     "data": {
      "text/plain": [
       "0.9307692307692308"
      ]
     },
     "execution_count": 17,
     "metadata": {},
     "output_type": "execute_result"
    }
   ],
   "source": [
    "accuracy_score(\n",
    "    y_true=y_test,\n",
    "    y_pred=y_mush_predict\n",
    ")"
   ]
  },
  {
   "cell_type": "code",
   "execution_count": 18,
   "id": "b70ef8b9-2c46-4c58-9520-5611e9381dfe",
   "metadata": {},
   "outputs": [
    {
     "data": {
      "image/png": "[encoded data removed]",
      "text/plain": [
       "<Figure size 640x480 with 2 Axes>"
      ]
     },
     "metadata": {},
     "output_type": "display_data"
    }
   ],
   "source": [
    "ConfusionMatrixDisplay.from_estimator(my_mush, X_train, y_train, display_labels=[\"Not poisonous\", \"Poisonous\"]);"
   ]
  },
  {
   "cell_type": "code",
   "execution_count": 19,
   "id": "b4137422-9f55-4673-8f03-e02cbaf63970",
   "metadata": {},
   "outputs": [
    {
     "data": {
      "text/plain": [
       "1.0"
      ]
     },
     "execution_count": 19,
     "metadata": {},
     "output_type": "execute_result"
    }
   ],
   "source": [
    "from sklearn.metrics import recall_score\n",
    "\n",
    "recall_score(y_true=y_test, y_pred=y_mush_predict)"
   ]
  },
  {
   "cell_type": "code",
   "execution_count": 20,
   "id": "1e87e8b3-d680-4467-82e6-894ba180c30f",
   "metadata": {},
   "outputs": [
    {
     "data": {
      "text/plain": [
       "(array([0.        , 0.13782542, 1.        ]),\n",
       " array([0., 1., 1.]),\n",
       " array([inf,  1.,  0.]))"
      ]
     },
     "execution_count": 20,
     "metadata": {},
     "output_type": "execute_result"
    }
   ],
   "source": [
    "roc_curve(y_true=y_test, y_score=y_mush_predict)"
   ]
  },
  {
   "cell_type": "code",
   "execution_count": 21,
   "id": "09f092af-d9d9-4987-a539-259fcde5651d",
   "metadata": {},
   "outputs": [],
   "source": [
    "fpr, tpr, thresholds = roc_curve(y_true=y_test, y_score=y_mush_predict)\n",
    "roc_auc = auc(fpr, tpr)"
   ]
  },
  {
   "cell_type": "code",
   "execution_count": 22,
   "id": "200a53cc-a375-48b3-9869-4e7bc270802d",
   "metadata": {},
   "outputs": [
    {
     "data": {
      "image/png": "[encoded data removed]",
      "text/plain": [
       "<Figure size 640x480 with 1 Axes>"
      ]
     },
     "metadata": {},
     "output_type": "display_data"
    }
   ],
   "source": [
    "plt.figure()\n",
    "plt.plot(fpr, tpr, color='darkorange', lw=2, label='ROC curve (area = %0.2f)' % roc_auc)\n",
    "plt.plot([0, 1], [0, 1], color='navy', lw=2, linestyle='--')\n",
    "plt.xlim([0.0, 1.0])\n",
    "plt.ylim([0.0, 1.0])\n",
    "plt.xlabel('False Positive Rate')\n",
    "plt.ylabel('True Positive Rate')\n",
    "plt.title('Receiver Operating Characteristic')\n",
    "plt.legend(loc=\"lower right\")\n",
    "plt.show()"
   ]
  },
  {
   "cell_type": "code",
   "execution_count": 23,
   "id": "1691c7d4-027d-4e14-bb86-2df0509da860",
   "metadata": {},
   "outputs": [
    {
     "name": "stdout",
     "output_type": "stream",
     "text": [
      "Best AUC: 0.9310872894333844\n"
     ]
    }
   ],
   "source": [
    "auc_score = roc_auc_score(y_test, y_mush_predict)\n",
    "print(f'Best AUC: {auc_score}')"
   ]
  },
  {
   "cell_type": "code",
   "execution_count": 24,
   "id": "69fd1a30-4d4c-462a-955a-e5ed08c47650",
   "metadata": {},
   "outputs": [],
   "source": [
    "new_data = pd.read_csv('https://drive.google.com/uc?export=download&id=1eWxV9FGj6D-YnMsv4mHMWRcGIKbjrXYL')"
   ]
  },
  {
   "cell_type": "code",
   "execution_count": 25,
   "id": "3a2f8d6c-8da8-4518-a323-e42c7bec39e3",
   "metadata": {},
   "outputs": [
    {
     "data": {
      "text/html": [
       "<div>\n",
       "<style scoped>\n",
       "    .dataframe tbody tr th:only-of-type {\n",
       "        vertical-align: middle;\n",
       "    }\n",
       "\n",
       "    .dataframe tbody tr th {\n",
       "        vertical-align: top;\n",
       "    }\n",
       "\n",
       "    .dataframe thead th {\n",
       "        text-align: right;\n",
       "    }\n",
       "</style>\n",
       "<table border=\"1\" class=\"dataframe\">\n",
       "  <thead>\n",
       "    <tr style=\"text-align: right;\">\n",
       "      <th></th>\n",
       "      <th>Id</th>\n",
       "      <th>cap.shape</th>\n",
       "      <th>cap.color</th>\n",
       "      <th>stalk.color.above.ring</th>\n",
       "      <th>stalk.color.below.ring</th>\n",
       "      <th>bruises</th>\n",
       "      <th>population</th>\n",
       "    </tr>\n",
       "  </thead>\n",
       "  <tbody>\n",
       "    <tr>\n",
       "      <th>0</th>\n",
       "      <td>5165</td>\n",
       "      <td>f</td>\n",
       "      <td>w</td>\n",
       "      <td>w</td>\n",
       "      <td>w</td>\n",
       "      <td>True</td>\n",
       "      <td>v</td>\n",
       "    </tr>\n",
       "    <tr>\n",
       "      <th>1</th>\n",
       "      <td>4281</td>\n",
       "      <td>f</td>\n",
       "      <td>g</td>\n",
       "      <td>n</td>\n",
       "      <td>p</td>\n",
       "      <td>False</td>\n",
       "      <td>v</td>\n",
       "    </tr>\n",
       "    <tr>\n",
       "      <th>2</th>\n",
       "      <td>231</td>\n",
       "      <td>x</td>\n",
       "      <td>n</td>\n",
       "      <td>w</td>\n",
       "      <td>p</td>\n",
       "      <td>True</td>\n",
       "      <td>v</td>\n",
       "    </tr>\n",
       "    <tr>\n",
       "      <th>3</th>\n",
       "      <td>3890</td>\n",
       "      <td>f</td>\n",
       "      <td>n</td>\n",
       "      <td>w</td>\n",
       "      <td>w</td>\n",
       "      <td>False</td>\n",
       "      <td>s</td>\n",
       "    </tr>\n",
       "    <tr>\n",
       "      <th>4</th>\n",
       "      <td>1521</td>\n",
       "      <td>x</td>\n",
       "      <td>y</td>\n",
       "      <td>n</td>\n",
       "      <td>p</td>\n",
       "      <td>False</td>\n",
       "      <td>v</td>\n",
       "    </tr>\n",
       "    <tr>\n",
       "      <th>...</th>\n",
       "      <td>...</td>\n",
       "      <td>...</td>\n",
       "      <td>...</td>\n",
       "      <td>...</td>\n",
       "      <td>...</td>\n",
       "      <td>...</td>\n",
       "      <td>...</td>\n",
       "    </tr>\n",
       "    <tr>\n",
       "      <th>1620</th>\n",
       "      <td>983</td>\n",
       "      <td>x</td>\n",
       "      <td>n</td>\n",
       "      <td>w</td>\n",
       "      <td>y</td>\n",
       "      <td>False</td>\n",
       "      <td>v</td>\n",
       "    </tr>\n",
       "    <tr>\n",
       "      <th>1621</th>\n",
       "      <td>7055</td>\n",
       "      <td>x</td>\n",
       "      <td>e</td>\n",
       "      <td>p</td>\n",
       "      <td>g</td>\n",
       "      <td>True</td>\n",
       "      <td>v</td>\n",
       "    </tr>\n",
       "    <tr>\n",
       "      <th>1622</th>\n",
       "      <td>7456</td>\n",
       "      <td>x</td>\n",
       "      <td>y</td>\n",
       "      <td>b</td>\n",
       "      <td>n</td>\n",
       "      <td>False</td>\n",
       "      <td>y</td>\n",
       "    </tr>\n",
       "    <tr>\n",
       "      <th>1623</th>\n",
       "      <td>5132</td>\n",
       "      <td>x</td>\n",
       "      <td>w</td>\n",
       "      <td>w</td>\n",
       "      <td>w</td>\n",
       "      <td>True</td>\n",
       "      <td>n</td>\n",
       "    </tr>\n",
       "    <tr>\n",
       "      <th>1624</th>\n",
       "      <td>6821</td>\n",
       "      <td>f</td>\n",
       "      <td>e</td>\n",
       "      <td>w</td>\n",
       "      <td>w</td>\n",
       "      <td>False</td>\n",
       "      <td>v</td>\n",
       "    </tr>\n",
       "  </tbody>\n",
       "</table>\n",
       "<p>1625 rows × 7 columns</p>\n",
       "</div>"
      ],
      "text/plain": [
       "        Id cap.shape cap.color stalk.color.above.ring stalk.color.below.ring  \\\n",
       "0     5165         f         w                      w                      w   \n",
       "1     4281         f         g                      n                      p   \n",
       "2      231         x         n                      w                      p   \n",
       "3     3890         f         n                      w                      w   \n",
       "4     1521         x         y                      n                      p   \n",
       "...    ...       ...       ...                    ...                    ...   \n",
       "1620   983         x         n                      w                      y   \n",
       "1621  7055         x         e                      p                      g   \n",
       "1622  7456         x         y                      b                      n   \n",
       "1623  5132         x         w                      w                      w   \n",
       "1624  6821         f         e                      w                      w   \n",
       "\n",
       "      bruises population  \n",
       "0        True          v  \n",
       "1       False          v  \n",
       "2        True          v  \n",
       "3       False          s  \n",
       "4       False          v  \n",
       "...       ...        ...  \n",
       "1620    False          v  \n",
       "1621     True          v  \n",
       "1622    False          y  \n",
       "1623     True          n  \n",
       "1624    False          v  \n",
       "\n",
       "[1625 rows x 7 columns]"
      ]
     },
     "execution_count": 25,
     "metadata": {},
     "output_type": "execute_result"
    }
   ],
   "source": [
    "new_data"
   ]
  },
  {
   "cell_type": "code",
   "execution_count": 26,
   "id": "c776f084-7d0d-472c-aafc-dbe5f309af51",
   "metadata": {},
   "outputs": [],
   "source": [
    "id_col = new_data.pop('Id')"
   ]
  },
  {
   "cell_type": "code",
   "execution_count": 27,
   "id": "7109d10b-dcf1-4209-b052-9deab7fedbeb",
   "metadata": {},
   "outputs": [],
   "source": [
    "order_of_columns = X.columns.to_list()\n",
    "new_data = new_data[order_of_columns]"
   ]
  },
  {
   "cell_type": "code",
   "execution_count": 28,
   "id": "8c84b27a-bb9c-462d-9c74-4ae2fbd9e0c6",
   "metadata": {},
   "outputs": [],
   "source": [
    "poisonous_pred = my_mush.predict(new_data)"
   ]
  },
  {
   "cell_type": "code",
   "execution_count": 29,
   "id": "6563ef79-d02f-4991-a47e-88c456b92cd3",
   "metadata": {},
   "outputs": [],
   "source": [
    "submission_file = pd.DataFrame({\n",
    "    'Id':id_col,\n",
    "    'poisonous':poisonous_pred\n",
    "})"
   ]
  },
  {
   "cell_type": "code",
   "execution_count": 30,
   "id": "761ba6ea-8530-4f96-ad74-4ec9674d1311",
   "metadata": {},
   "outputs": [
    {
     "data": {
      "text/html": [
       "<div>\n",
       "<style scoped>\n",
       "    .dataframe tbody tr th:only-of-type {\n",
       "        vertical-align: middle;\n",
       "    }\n",
       "\n",
       "    .dataframe tbody tr th {\n",
       "        vertical-align: top;\n",
       "    }\n",
       "\n",
       "    .dataframe thead th {\n",
       "        text-align: right;\n",
       "    }\n",
       "</style>\n",
       "<table border=\"1\" class=\"dataframe\">\n",
       "  <thead>\n",
       "    <tr style=\"text-align: right;\">\n",
       "      <th></th>\n",
       "      <th>Id</th>\n",
       "      <th>poisonous</th>\n",
       "    </tr>\n",
       "  </thead>\n",
       "  <tbody>\n",
       "    <tr>\n",
       "      <th>0</th>\n",
       "      <td>5165</td>\n",
       "      <td>1</td>\n",
       "    </tr>\n",
       "    <tr>\n",
       "      <th>1</th>\n",
       "      <td>4281</td>\n",
       "      <td>1</td>\n",
       "    </tr>\n",
       "    <tr>\n",
       "      <th>2</th>\n",
       "      <td>231</td>\n",
       "      <td>0</td>\n",
       "    </tr>\n",
       "    <tr>\n",
       "      <th>3</th>\n",
       "      <td>3890</td>\n",
       "      <td>0</td>\n",
       "    </tr>\n",
       "    <tr>\n",
       "      <th>4</th>\n",
       "      <td>1521</td>\n",
       "      <td>1</td>\n",
       "    </tr>\n",
       "  </tbody>\n",
       "</table>\n",
       "</div>"
      ],
      "text/plain": [
       "     Id  poisonous\n",
       "0  5165          1\n",
       "1  4281          1\n",
       "2   231          0\n",
       "3  3890          0\n",
       "4  1521          1"
      ]
     },
     "execution_count": 30,
     "metadata": {},
     "output_type": "execute_result"
    }
   ],
   "source": [
    "submission_file.head()"
   ]
  },
  {
   "cell_type": "code",
   "execution_count": 31,
   "id": "c745267e-aa37-4967-9ea8-aaaeb89c99fa",
   "metadata": {},
   "outputs": [],
   "source": [
    "submission_file.to_csv('submission_1.csv', index=False)"
   ]
  },
  {
   "cell_type": "markdown",
   "id": "a3c72a07-e98a-4ce2-aecf-60d9aab77314",
   "metadata": {},
   "source": [
    "## Trying another preprocessor with more parameters"
   ]
  },
  {
   "cell_type": "code",
   "execution_count": 32,
   "id": "56ee7e62-3494-44a4-934a-90b3abf7875b",
   "metadata": {},
   "outputs": [],
   "source": [
    "preprocessor_2 = ColumnTransformer(\n",
    "    transformers=[\n",
    "        ('cat', OneHotEncoder(handle_unknown='infrequent_if_exist', sparse_output=False), X.columns)\n",
    "    ],\n",
    "    remainder='passthrough'\n",
    ")"
   ]
  },
  {
   "cell_type": "code",
   "execution_count": 33,
   "id": "5bbf0baf-1470-4122-aff4-b5965dfb9fe9",
   "metadata": {},
   "outputs": [],
   "source": [
    "mush_pipe_2 = make_pipeline(preprocessor_2,\n",
    "    RandomForestClassifier(class_weight={0: 1, 1: 10}, random_state=42)\n",
    ").set_output(transform='pandas')\n",
    "param_grid_2 = {\n",
    "    \"randomforestclassifier__n_estimators\": [200 ,500],\n",
    "    \"randomforestclassifier__max_depth\": [15],\n",
    "    \"randomforestclassifier__max_features\": ['sqrt', 'log2', None],\n",
    "    \"randomforestclassifier__min_samples_leaf\": [5, 10],\n",
    "    \"randomforestclassifier__criterion\": ['gini', 'entropy'],\n",
    "    \"randomforestclassifier__oob_score\": [True],\n",
    "    \"randomforestclassifier__min_impurity_decrease\": [0.0],\n",
    "    \"randomforestclassifier__ccp_alpha\": [0.0]\n",
    "}"
   ]
  },
  {
   "cell_type": "code",
   "execution_count": 34,
   "id": "19b8c1e3-2d95-4d1f-8b15-3f7c4266df69",
   "metadata": {},
   "outputs": [],
   "source": [
    "search_2 = GridSearchCV(\n",
    "    mush_pipe_2,\n",
    "    param_grid=param_grid_2,\n",
    "    cv=5,\n",
    "    scoring='accuracy',\n",
    "    verbose=1\n",
    ")"
   ]
  },
  {
   "cell_type": "code",
   "execution_count": 35,
   "id": "a3a3b96d-5a84-48ca-85a0-4aab9ba2c49a",
   "metadata": {},
   "outputs": [
    {
     "name": "stdout",
     "output_type": "stream",
     "text": [
      "Fitting 5 folds for each of 24 candidates, totalling 120 fits\n"
     ]
    },
    {
     "data": {
      "text/html": [
       "<style>#sk-container-id-2 {color: black;}#sk-container-id-2 pre{padding: 0;}#sk-container-id-2 div.sk-toggleable {background-color: white;}#sk-container-id-2 label.sk-toggleable__label {cursor: pointer;display: block;width: 100%;margin-bottom: 0;padding: 0.3em;box-sizing: border-box;text-align: center;}#sk-container-id-2 label.sk-toggleable__label-arrow:before {content: \"▸\";float: left;margin-right: 0.25em;color: #696969;}#sk-container-id-2 label.sk-toggleable__label-arrow:hover:before {color: black;}#sk-container-id-2 div.sk-estimator:hover label.sk-toggleable__label-arrow:before {color: black;}#sk-container-id-2 div.sk-toggleable__content {max-height: 0;max-width: 0;overflow: hidden;text-align: left;background-color: #f0f8ff;}#sk-container-id-2 div.sk-toggleable__content pre {margin: 0.2em;color: black;border-radius: 0.25em;background-color: #f0f8ff;}#sk-container-id-2 input.sk-toggleable__control:checked~div.sk-toggleable__content {max-height: 200px;max-width: 100%;overflow: auto;}#sk-container-id-2 input.sk-toggleable__control:checked~label.sk-toggleable__label-arrow:before {content: \"▾\";}#sk-container-id-2 div.sk-estimator input.sk-toggleable__control:checked~label.sk-toggleable__label {background-color: #d4ebff;}#sk-container-id-2 div.sk-label input.sk-toggleable__control:checked~label.sk-toggleable__label {background-color: #d4ebff;}#sk-container-id-2 input.sk-hidden--visually {border: 0;clip: rect(1px 1px 1px 1px);clip: rect(1px, 1px, 1px, 1px);height: 1px;margin: -1px;overflow: hidden;padding: 0;position: absolute;width: 1px;}#sk-container-id-2 div.sk-estimator {font-family: monospace;background-color: #f0f8ff;border: 1px dotted black;border-radius: 0.25em;box-sizing: border-box;margin-bottom: 0.5em;}#sk-container-id-2 div.sk-estimator:hover {background-color: #d4ebff;}#sk-container-id-2 div.sk-parallel-item::after {content: \"\";width: 100%;border-bottom: 1px solid gray;flex-grow: 1;}#sk-container-id-2 div.sk-label:hover label.sk-toggleable__label {background-color: #d4ebff;}#sk-container-id-2 div.sk-serial::before {content: \"\";position: absolute;border-left: 1px solid gray;box-sizing: border-box;top: 0;bottom: 0;left: 50%;z-index: 0;}#sk-container-id-2 div.sk-serial {display: flex;flex-direction: column;align-items: center;background-color: white;padding-right: 0.2em;padding-left: 0.2em;position: relative;}#sk-container-id-2 div.sk-item {position: relative;z-index: 1;}#sk-container-id-2 div.sk-parallel {display: flex;align-items: stretch;justify-content: center;background-color: white;position: relative;}#sk-container-id-2 div.sk-item::before, #sk-container-id-2 div.sk-parallel-item::before {content: \"\";position: absolute;border-left: 1px solid gray;box-sizing: border-box;top: 0;bottom: 0;left: 50%;z-index: -1;}#sk-container-id-2 div.sk-parallel-item {display: flex;flex-direction: column;z-index: 1;position: relative;background-color: white;}#sk-container-id-2 div.sk-parallel-item:first-child::after {align-self: flex-end;width: 50%;}#sk-container-id-2 div.sk-parallel-item:last-child::after {align-self: flex-start;width: 50%;}#sk-container-id-2 div.sk-parallel-item:only-child::after {width: 0;}#sk-container-id-2 div.sk-dashed-wrapped {border: 1px dashed gray;margin: 0 0.4em 0.5em 0.4em;box-sizing: border-box;padding-bottom: 0.4em;background-color: white;}#sk-container-id-2 div.sk-label label {font-family: monospace;font-weight: bold;display: inline-block;line-height: 1.2em;}#sk-container-id-2 div.sk-label-container {text-align: center;}#sk-container-id-2 div.sk-container {/* jupyter's `normalize.less` sets `[hidden] { display: none; }` but bootstrap.min.css set `[hidden] { display: none !important; }` so we also need the `!important` here to be able to override the default hidden behavior on the sphinx rendered scikit-learn.org. See: https://github.com/scikit-learn/scikit-learn/issues/21755 */display: inline-block !important;position: relative;}#sk-container-id-2 div.sk-text-repr-fallback {display: none;}</style><div id=\"sk-container-id-2\" class=\"sk-top-container\"><div class=\"sk-text-repr-fallback\"><pre>GridSearchCV(cv=5,\n",
       "             estimator=Pipeline(steps=[(&#x27;columntransformer&#x27;,\n",
       "                                        ColumnTransformer(remainder=&#x27;passthrough&#x27;,\n",
       "                                                          transformers=[(&#x27;cat&#x27;,\n",
       "                                                                         OneHotEncoder(handle_unknown=&#x27;infrequent_if_exist&#x27;,\n",
       "                                                                                       sparse_output=False),\n",
       "                                                                         Index([&#x27;cap.shape&#x27;, &#x27;cap.color&#x27;, &#x27;bruises&#x27;, &#x27;stalk.color.above.ring&#x27;,\n",
       "       &#x27;stalk.color.below.ring&#x27;, &#x27;population&#x27;],\n",
       "      dtype=&#x27;object&#x27;))])),\n",
       "                                       (&#x27;randomforestclassifier&#x27;...\n",
       "                         &#x27;randomforestclassifier__criterion&#x27;: [&#x27;gini&#x27;,\n",
       "                                                               &#x27;entropy&#x27;],\n",
       "                         &#x27;randomforestclassifier__max_depth&#x27;: [15],\n",
       "                         &#x27;randomforestclassifier__max_features&#x27;: [&#x27;sqrt&#x27;,\n",
       "                                                                  &#x27;log2&#x27;,\n",
       "                                                                  None],\n",
       "                         &#x27;randomforestclassifier__min_impurity_decrease&#x27;: [0.0],\n",
       "                         &#x27;randomforestclassifier__min_samples_leaf&#x27;: [5, 10],\n",
       "                         &#x27;randomforestclassifier__n_estimators&#x27;: [200, 500],\n",
       "                         &#x27;randomforestclassifier__oob_score&#x27;: [True]},\n",
       "             scoring=&#x27;accuracy&#x27;, verbose=1)</pre><b>In a Jupyter environment, please rerun this cell to show the HTML representation or trust the notebook. <br />On GitHub, the HTML representation is unable to render, please try loading this page with nbviewer.org.</b></div><div class=\"sk-container\" hidden><div class=\"sk-item sk-dashed-wrapped\"><div class=\"sk-label-container\"><div class=\"sk-label sk-toggleable\"><input class=\"sk-toggleable__control sk-hidden--visually\" id=\"sk-estimator-id-5\" type=\"checkbox\" ><label for=\"sk-estimator-id-5\" class=\"sk-toggleable__label sk-toggleable__label-arrow\">GridSearchCV</label><div class=\"sk-toggleable__content\"><pre>GridSearchCV(cv=5,\n",
       "             estimator=Pipeline(steps=[(&#x27;columntransformer&#x27;,\n",
       "                                        ColumnTransformer(remainder=&#x27;passthrough&#x27;,\n",
       "                                                          transformers=[(&#x27;cat&#x27;,\n",
       "                                                                         OneHotEncoder(handle_unknown=&#x27;infrequent_if_exist&#x27;,\n",
       "                                                                                       sparse_output=False),\n",
       "                                                                         Index([&#x27;cap.shape&#x27;, &#x27;cap.color&#x27;, &#x27;bruises&#x27;, &#x27;stalk.color.above.ring&#x27;,\n",
       "       &#x27;stalk.color.below.ring&#x27;, &#x27;population&#x27;],\n",
       "      dtype=&#x27;object&#x27;))])),\n",
       "                                       (&#x27;randomforestclassifier&#x27;...\n",
       "                         &#x27;randomforestclassifier__criterion&#x27;: [&#x27;gini&#x27;,\n",
       "                                                               &#x27;entropy&#x27;],\n",
       "                         &#x27;randomforestclassifier__max_depth&#x27;: [15],\n",
       "                         &#x27;randomforestclassifier__max_features&#x27;: [&#x27;sqrt&#x27;,\n",
       "                                                                  &#x27;log2&#x27;,\n",
       "                                                                  None],\n",
       "                         &#x27;randomforestclassifier__min_impurity_decrease&#x27;: [0.0],\n",
       "                         &#x27;randomforestclassifier__min_samples_leaf&#x27;: [5, 10],\n",
       "                         &#x27;randomforestclassifier__n_estimators&#x27;: [200, 500],\n",
       "                         &#x27;randomforestclassifier__oob_score&#x27;: [True]},\n",
       "             scoring=&#x27;accuracy&#x27;, verbose=1)</pre></div></div></div><div class=\"sk-parallel\"><div class=\"sk-parallel-item\"><div class=\"sk-item\"><div class=\"sk-label-container\"><div class=\"sk-label sk-toggleable\"><input class=\"sk-toggleable__control sk-hidden--visually\" id=\"sk-estimator-id-6\" type=\"checkbox\" ><label for=\"sk-estimator-id-6\" class=\"sk-toggleable__label sk-toggleable__label-arrow\">estimator: Pipeline</label><div class=\"sk-toggleable__content\"><pre>Pipeline(steps=[(&#x27;columntransformer&#x27;,\n",
       "                 ColumnTransformer(remainder=&#x27;passthrough&#x27;,\n",
       "                                   transformers=[(&#x27;cat&#x27;,\n",
       "                                                  OneHotEncoder(handle_unknown=&#x27;infrequent_if_exist&#x27;,\n",
       "                                                                sparse_output=False),\n",
       "                                                  Index([&#x27;cap.shape&#x27;, &#x27;cap.color&#x27;, &#x27;bruises&#x27;, &#x27;stalk.color.above.ring&#x27;,\n",
       "       &#x27;stalk.color.below.ring&#x27;, &#x27;population&#x27;],\n",
       "      dtype=&#x27;object&#x27;))])),\n",
       "                (&#x27;randomforestclassifier&#x27;,\n",
       "                 RandomForestClassifier(class_weight={0: 1, 1: 10},\n",
       "                                        random_state=42))])</pre></div></div></div><div class=\"sk-serial\"><div class=\"sk-item\"><div class=\"sk-serial\"><div class=\"sk-item sk-dashed-wrapped\"><div class=\"sk-label-container\"><div class=\"sk-label sk-toggleable\"><input class=\"sk-toggleable__control sk-hidden--visually\" id=\"sk-estimator-id-7\" type=\"checkbox\" ><label for=\"sk-estimator-id-7\" class=\"sk-toggleable__label sk-toggleable__label-arrow\">columntransformer: ColumnTransformer</label><div class=\"sk-toggleable__content\"><pre>ColumnTransformer(remainder=&#x27;passthrough&#x27;,\n",
       "                  transformers=[(&#x27;cat&#x27;,\n",
       "                                 OneHotEncoder(handle_unknown=&#x27;infrequent_if_exist&#x27;,\n",
       "                                               sparse_output=False),\n",
       "                                 Index([&#x27;cap.shape&#x27;, &#x27;cap.color&#x27;, &#x27;bruises&#x27;, &#x27;stalk.color.above.ring&#x27;,\n",
       "       &#x27;stalk.color.below.ring&#x27;, &#x27;population&#x27;],\n",
       "      dtype=&#x27;object&#x27;))])</pre></div></div></div><div class=\"sk-parallel\"><div class=\"sk-parallel-item\"><div class=\"sk-item\"><div class=\"sk-label-container\"><div class=\"sk-label sk-toggleable\"><input class=\"sk-toggleable__control sk-hidden--visually\" id=\"sk-estimator-id-8\" type=\"checkbox\" ><label for=\"sk-estimator-id-8\" class=\"sk-toggleable__label sk-toggleable__label-arrow\">cat</label><div class=\"sk-toggleable__content\"><pre>Index([&#x27;cap.shape&#x27;, &#x27;cap.color&#x27;, &#x27;bruises&#x27;, &#x27;stalk.color.above.ring&#x27;,\n",
       "       &#x27;stalk.color.below.ring&#x27;, &#x27;population&#x27;],\n",
       "      dtype=&#x27;object&#x27;)</pre></div></div></div><div class=\"sk-serial\"><div class=\"sk-item\"><div class=\"sk-estimator sk-toggleable\"><input class=\"sk-toggleable__control sk-hidden--visually\" id=\"sk-estimator-id-9\" type=\"checkbox\" ><label for=\"sk-estimator-id-9\" class=\"sk-toggleable__label sk-toggleable__label-arrow\">OneHotEncoder</label><div class=\"sk-toggleable__content\"><pre>OneHotEncoder(handle_unknown=&#x27;infrequent_if_exist&#x27;, sparse_output=False)</pre></div></div></div></div></div></div><div class=\"sk-parallel-item\"><div class=\"sk-item\"><div class=\"sk-label-container\"><div class=\"sk-label sk-toggleable\"><input class=\"sk-toggleable__control sk-hidden--visually\" id=\"sk-estimator-id-10\" type=\"checkbox\" ><label for=\"sk-estimator-id-10\" class=\"sk-toggleable__label sk-toggleable__label-arrow\">remainder</label><div class=\"sk-toggleable__content\"><pre></pre></div></div></div><div class=\"sk-serial\"><div class=\"sk-item\"><div class=\"sk-estimator sk-toggleable\"><input class=\"sk-toggleable__control sk-hidden--visually\" id=\"sk-estimator-id-11\" type=\"checkbox\" ><label for=\"sk-estimator-id-11\" class=\"sk-toggleable__label sk-toggleable__label-arrow\">passthrough</label><div class=\"sk-toggleable__content\"><pre>passthrough</pre></div></div></div></div></div></div></div></div><div class=\"sk-item\"><div class=\"sk-estimator sk-toggleable\"><input class=\"sk-toggleable__control sk-hidden--visually\" id=\"sk-estimator-id-12\" type=\"checkbox\" ><label for=\"sk-estimator-id-12\" class=\"sk-toggleable__label sk-toggleable__label-arrow\">RandomForestClassifier</label><div class=\"sk-toggleable__content\"><pre>RandomForestClassifier(class_weight={0: 1, 1: 10}, random_state=42)</pre></div></div></div></div></div></div></div></div></div></div></div></div>"
      ],
      "text/plain": [
       "GridSearchCV(cv=5,\n",
       "             estimator=Pipeline(steps=[('columntransformer',\n",
       "                                        ColumnTransformer(remainder='passthrough',\n",
       "                                                          transformers=[('cat',\n",
       "                                                                         OneHotEncoder(handle_unknown='infrequent_if_exist',\n",
       "                                                                                       sparse_output=False),\n",
       "                                                                         Index(['cap.shape', 'cap.color', 'bruises', 'stalk.color.above.ring',\n",
       "       'stalk.color.below.ring', 'population'],\n",
       "      dtype='object'))])),\n",
       "                                       ('randomforestclassifier'...\n",
       "                         'randomforestclassifier__criterion': ['gini',\n",
       "                                                               'entropy'],\n",
       "                         'randomforestclassifier__max_depth': [15],\n",
       "                         'randomforestclassifier__max_features': ['sqrt',\n",
       "                                                                  'log2',\n",
       "                                                                  None],\n",
       "                         'randomforestclassifier__min_impurity_decrease': [0.0],\n",
       "                         'randomforestclassifier__min_samples_leaf': [5, 10],\n",
       "                         'randomforestclassifier__n_estimators': [200, 500],\n",
       "                         'randomforestclassifier__oob_score': [True]},\n",
       "             scoring='accuracy', verbose=1)"
      ]
     },
     "execution_count": 35,
     "metadata": {},
     "output_type": "execute_result"
    }
   ],
   "source": [
    "search_2.fit(X_train, y_train)"
   ]
  },
  {
   "cell_type": "code",
   "execution_count": 36,
   "id": "00a0b97b-1bc4-46ae-b7a4-b4c3d2a42ff4",
   "metadata": {},
   "outputs": [
    {
     "data": {
      "text/plain": [
       "{'randomforestclassifier__ccp_alpha': 0.0,\n",
       " 'randomforestclassifier__criterion': 'entropy',\n",
       " 'randomforestclassifier__max_depth': 15,\n",
       " 'randomforestclassifier__max_features': None,\n",
       " 'randomforestclassifier__min_impurity_decrease': 0.0,\n",
       " 'randomforestclassifier__min_samples_leaf': 5,\n",
       " 'randomforestclassifier__n_estimators': 500,\n",
       " 'randomforestclassifier__oob_score': True}"
      ]
     },
     "execution_count": 36,
     "metadata": {},
     "output_type": "execute_result"
    }
   ],
   "source": [
    "search_2.best_params_"
   ]
  },
  {
   "cell_type": "code",
   "execution_count": 50,
   "id": "a5ce51bc-2d19-4cfc-90d7-0c5f25fbde51",
   "metadata": {},
   "outputs": [],
   "source": [
    "my_mush_2a = search_2.best_estimator_"
   ]
  },
  {
   "cell_type": "code",
   "execution_count": 51,
   "id": "97b44f17-955a-4320-a73b-60c58ccc46f1",
   "metadata": {},
   "outputs": [],
   "source": [
    "y_mush_predict_2a = my_mush_2a.predict(X_test)"
   ]
  },
  {
   "cell_type": "code",
   "execution_count": 52,
   "id": "ddfb6e56-88fb-4a44-b0a3-9bdfe67c95bb",
   "metadata": {},
   "outputs": [
    {
     "data": {
      "text/plain": [
       "0.9415384615384615"
      ]
     },
     "execution_count": 52,
     "metadata": {},
     "output_type": "execute_result"
    }
   ],
   "source": [
    "accuracy_score(\n",
    "    y_true=y_test,\n",
    "    y_pred=y_mush_predict_2a\n",
    ")"
   ]
  },
  {
   "cell_type": "code",
   "execution_count": 40,
   "id": "2eb99abc-8084-4476-9e73-44a032db3a7d",
   "metadata": {},
   "outputs": [
    {
     "data": {
      "text/plain": [
       "1.0"
      ]
     },
     "execution_count": 40,
     "metadata": {},
     "output_type": "execute_result"
    }
   ],
   "source": [
    "from sklearn.metrics import recall_score\n",
    "\n",
    "recall_score(y_true=y_test, y_pred=y_mush_predict_2a)"
   ]
  },
  {
   "cell_type": "code",
   "execution_count": 53,
   "id": "161f20a6-3011-41a2-9dc0-510910796f67",
   "metadata": {},
   "outputs": [],
   "source": [
    "poisonous_pred_2a = my_mush_2a.predict(new_data)"
   ]
  },
  {
   "cell_type": "code",
   "execution_count": 54,
   "id": "a9d65a69-21f4-4455-9619-758e93a4a4ad",
   "metadata": {},
   "outputs": [],
   "source": [
    "submission_file_final = pd.DataFrame({\n",
    "    'Id':id_col,\n",
    "    'poisonous':poisonous_pred_2a\n",
    "})"
   ]
  },
  {
   "cell_type": "code",
   "execution_count": 55,
   "id": "161c5f58-e4be-48f8-9104-a4678cf08c0b",
   "metadata": {},
   "outputs": [
    {
     "data": {
      "text/html": [
       "<div>\n",
       "<style scoped>\n",
       "    .dataframe tbody tr th:only-of-type {\n",
       "        vertical-align: middle;\n",
       "    }\n",
       "\n",
       "    .dataframe tbody tr th {\n",
       "        vertical-align: top;\n",
       "    }\n",
       "\n",
       "    .dataframe thead th {\n",
       "        text-align: right;\n",
       "    }\n",
       "</style>\n",
       "<table border=\"1\" class=\"dataframe\">\n",
       "  <thead>\n",
       "    <tr style=\"text-align: right;\">\n",
       "      <th></th>\n",
       "      <th>Id</th>\n",
       "      <th>poisonous</th>\n",
       "    </tr>\n",
       "  </thead>\n",
       "  <tbody>\n",
       "    <tr>\n",
       "      <th>0</th>\n",
       "      <td>5165</td>\n",
       "      <td>1</td>\n",
       "    </tr>\n",
       "    <tr>\n",
       "      <th>1</th>\n",
       "      <td>4281</td>\n",
       "      <td>1</td>\n",
       "    </tr>\n",
       "    <tr>\n",
       "      <th>2</th>\n",
       "      <td>231</td>\n",
       "      <td>0</td>\n",
       "    </tr>\n",
       "    <tr>\n",
       "      <th>3</th>\n",
       "      <td>3890</td>\n",
       "      <td>0</td>\n",
       "    </tr>\n",
       "    <tr>\n",
       "      <th>4</th>\n",
       "      <td>1521</td>\n",
       "      <td>1</td>\n",
       "    </tr>\n",
       "  </tbody>\n",
       "</table>\n",
       "</div>"
      ],
      "text/plain": [
       "     Id  poisonous\n",
       "0  5165          1\n",
       "1  4281          1\n",
       "2   231          0\n",
       "3  3890          0\n",
       "4  1521          1"
      ]
     },
     "execution_count": 55,
     "metadata": {},
     "output_type": "execute_result"
    }
   ],
   "source": [
    "submission_file_final.head()"
   ]
  },
  {
   "cell_type": "code",
   "execution_count": 48,
   "id": "b44a5758-ddef-4618-94e6-d740c54c8be2",
   "metadata": {},
   "outputs": [],
   "source": [
    "submission_file_final.to_csv('submission_final.csv', index=False)"
   ]
  },
  {
   "cell_type": "code",
   "execution_count": 56,
   "id": "2e400c11-c0a3-4c44-a8b8-6ea6e6e8bcf3",
   "metadata": {},
   "outputs": [
    {
     "data": {
      "image/png": "[encoded data removed]",
      "text/plain": [
       "<Figure size 640x480 with 2 Axes>"
      ]
     },
     "metadata": {},
     "output_type": "display_data"
    }
   ],
   "source": [
    "ConfusionMatrixDisplay.from_estimator(my_mush_2a, X_train, y_train, display_labels=[\"Not poisonous\", \"Poisonous\"]);"
   ]
  },
  {
   "cell_type": "code",
   "execution_count": 58,
   "id": "df33bea7-f71d-45b7-8e27-173217bb21d0",
   "metadata": {},
   "outputs": [
    {
     "data": {
      "text/plain": [
       "1.0"
      ]
     },
     "execution_count": 58,
     "metadata": {},
     "output_type": "execute_result"
    }
   ],
   "source": [
    "from sklearn.metrics import recall_score\n",
    "\n",
    "recall_score(y_true=y_test, y_pred=y_mush_predict_2a)"
   ]
  },
  {
   "cell_type": "code",
   "execution_count": 263,
   "id": "8eb688d8-ccfa-4741-ab86-cffd9e3e8665",
   "metadata": {},
   "outputs": [],
   "source": [
    "poisonous_pred_2 = my_mush_2a.predict(new_data)"
   ]
  },
  {
   "cell_type": "code",
   "execution_count": 264,
   "id": "2bfd918a-d55b-477b-85f0-b34fdca51888",
   "metadata": {},
   "outputs": [],
   "source": [
    "submission_file_2 = pd.DataFrame({\n",
    "    'Id':id_col,\n",
    "    'poisonous':poisonous_pred_2\n",
    "})"
   ]
  },
  {
   "cell_type": "code",
   "execution_count": 265,
   "id": "d791ca89-37e5-4dd3-a9b0-d7b21780b78f",
   "metadata": {},
   "outputs": [],
   "source": [
    "submission_file_2.to_csv('submission_2a2.csv', index=False)"
   ]
  }
 ],
 "metadata": {
  "kernelspec": {
   "display_name": "Python 3 (ipykernel)",
   "language": "python",
   "name": "python3"
  },
  "language_info": {
   "codemirror_mode": {
    "name": "ipython",
    "version": 3
   },
   "file_extension": ".py",
   "mimetype": "text/x-python",
   "name": "python",
   "nbconvert_exporter": "python",
   "pygments_lexer": "ipython3",
   "version": "3.11.5"
  }
 },
 "nbformat": 4,
 "nbformat_minor": 5
}
